{
 "cells": [
  {
   "cell_type": "code",
   "execution_count": 1,
   "metadata": {},
   "outputs": [],
   "source": [
    "import numpy as np\n",
    "import matplotlib.pyplot as plt\n",
    "from scipy import interpolate"
   ]
  },
  {
   "cell_type": "code",
   "execution_count": 2,
   "metadata": {},
   "outputs": [],
   "source": [
    "NACA=2414\n",
    "alpha=0.1"
   ]
  },
  {
   "cell_type": "code",
   "execution_count": 3,
   "metadata": {},
   "outputs": [],
   "source": [
    "def importarXfoildata(NACA,alpha):\n",
    "    \n",
    "    NACA=str(NACA)\n",
    "    \n",
    "    data=np.loadtxt(NACA+'.txt',skiprows=12) #importar todos los datos y guardarlos por variable\n",
    "    alphavector=data[:,0]\n",
    "    Clvector=data[:,1]\n",
    "    Cdvector=data[:,2]\n",
    "    Cdpvector=data[:,3]\n",
    "    Cmvector=data[:,4]\n",
    "    \n",
    "    \"\"\"\n",
    "    #función para representar\n",
    "    #triple ' para generar comentario multilinea, porque no hace falta representar.\n",
    "    polar=plt.figure() #representar la polar\n",
    "    \n",
    "    plt.subplot(3,2,1)\n",
    "    plt.plot(Cdvector,Clvector)\n",
    "    plt.title(\"Cl v Cd\")\n",
    "    plt.ylabel('Cl')\n",
    "    plt.xlabel('Cd')\n",
    "\n",
    "    polar.add_subplot(3,2,2)\n",
    "    plt.plot(alphavector,Clvector)\n",
    "    plt.title(\"Cl v α\")\n",
    "    plt.ylabel('Cl')\n",
    "    plt.xlabel('α')\n",
    "\n",
    "    polar.add_subplot(3,2,3)\n",
    "    plt.plot(alphavector,Clvector/Cdvector)\n",
    "    plt.title(\"Cl/Cd v α\")\n",
    "    plt.ylabel('Cl/Cd')\n",
    "    plt.xlabel('α')\n",
    "\n",
    "    polar.add_subplot(3,2,4)\n",
    "    plt.plot(alphavector,Cdvector)\n",
    "    plt.title(\"Cd v α\")\n",
    "    plt.ylabel('Cd')\n",
    "    plt.xlabel('α')\n",
    "\n",
    "    polar.add_subplot(3,2,5)\n",
    "    plt.plot(alphavector,Cmvector)\n",
    "    plt.title(\"Cm v α\")\n",
    "    plt.ylabel('Cm')\n",
    "    plt.xlabel('α')\n",
    "\n",
    "    polar.set_size_inches(10,10)\n",
    "    polar.tight_layout()\"\"\"\n",
    "    \n",
    "    #interpolar cl, cd, cdp, cm para convertirlos en función\n",
    "    Clfuncion=interpolate.InterpolatedUnivariateSpline(alphavector,Clvector,k=1)\n",
    "    Cdfuncion=interpolate.InterpolatedUnivariateSpline(alphavector,Cdvector,k=1)\n",
    "    Cdpfuncion=interpolate.InterpolatedUnivariateSpline(alphavector,Cdpvector,k=1)\n",
    "    Cmfuncion=interpolate.InterpolatedUnivariateSpline(alphavector,Cmvector,k=1)\n",
    "    \n",
    "    alpha0funcion=interpolate.InterpolatedUnivariateSpline(Clvector,alphavector,k=1)\n",
    "    alpha0=float(alpha0funcion(0))\n",
    "    \n",
    "    Clalpha=(Clfuncion(4)-Clfuncion(-4))/(((4-(-4))*np.pi)/180)\n",
    "    \n",
    "    Cl=float(Clfuncion(alpha)) #pendiente, dividir esta función en dos, una importe y otra returne.\n",
    "    Cd=float(Cdfuncion(alpha))\n",
    "    Cdp=float(Cdpfuncion(alpha))\n",
    "    Cm=float(Cmfuncion(alpha))\n",
    "    \n",
    "    return Cl,Cd,Cdp,Cm,alpha0,Clalpha #el resultado es Cl,Cd,Cdp,Cm"
   ]
  },
  {
   "cell_type": "code",
   "execution_count": 4,
   "metadata": {},
   "outputs": [],
   "source": [
    "Cl,Cd,Cdp,Cm,alpha0,Clalpha=importarXfoildata(NACA,alpha)"
   ]
  },
  {
   "cell_type": "code",
   "execution_count": 29,
   "metadata": {},
   "outputs": [
    {
     "data": {
      "text/plain": [
       "-1.436896229354939"
      ]
     },
     "execution_count": 29,
     "metadata": {},
     "output_type": "execute_result"
    }
   ],
   "source": [
    "alpha0"
   ]
  },
  {
   "cell_type": "code",
   "execution_count": 30,
   "metadata": {},
   "outputs": [
    {
     "data": {
      "text/plain": [
       "8.892663079052333"
      ]
     },
     "execution_count": 30,
     "metadata": {},
     "output_type": "execute_result"
    }
   ],
   "source": [
    "Clalpha"
   ]
  },
  {
   "cell_type": "code",
   "execution_count": 32,
   "metadata": {},
   "outputs": [
    {
     "data": {
      "text/plain": [
       "1.24165"
      ]
     },
     "execution_count": 32,
     "metadata": {},
     "output_type": "execute_result"
    }
   ],
   "source": [
    "(4*np.pi/180)*Clalpha*2"
   ]
  },
  {
   "cell_type": "code",
   "execution_count": null,
   "metadata": {},
   "outputs": [],
   "source": [
    "Cl"
   ]
  },
  {
   "cell_type": "code",
   "execution_count": null,
   "metadata": {},
   "outputs": [],
   "source": []
  },
  {
   "cell_type": "code",
   "execution_count": null,
   "metadata": {},
   "outputs": [],
   "source": []
  },
  {
   "cell_type": "code",
   "execution_count": null,
   "metadata": {},
   "outputs": [],
   "source": []
  },
  {
   "cell_type": "code",
   "execution_count": null,
   "metadata": {},
   "outputs": [],
   "source": []
  },
  {
   "cell_type": "code",
   "execution_count": null,
   "metadata": {},
   "outputs": [],
   "source": []
  },
  {
   "cell_type": "code",
   "execution_count": null,
   "metadata": {},
   "outputs": [],
   "source": []
  },
  {
   "cell_type": "code",
   "execution_count": null,
   "metadata": {},
   "outputs": [],
   "source": []
  },
  {
   "cell_type": "code",
   "execution_count": null,
   "metadata": {},
   "outputs": [],
   "source": []
  },
  {
   "cell_type": "code",
   "execution_count": null,
   "metadata": {},
   "outputs": [],
   "source": []
  },
  {
   "cell_type": "code",
   "execution_count": null,
   "metadata": {},
   "outputs": [],
   "source": []
  }
 ],
 "metadata": {
  "kernelspec": {
   "display_name": "Python 3",
   "language": "python",
   "name": "python3"
  },
  "language_info": {
   "codemirror_mode": {
    "name": "ipython",
    "version": 3
   },
   "file_extension": ".py",
   "mimetype": "text/x-python",
   "name": "python",
   "nbconvert_exporter": "python",
   "pygments_lexer": "ipython3",
   "version": "3.6.4"
  }
 },
 "nbformat": 4,
 "nbformat_minor": 2
}
